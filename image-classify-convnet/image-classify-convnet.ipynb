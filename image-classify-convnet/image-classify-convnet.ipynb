{
 "cells": [
  {
   "cell_type": "markdown",
   "metadata": {
    "collapsed": true,
    "deletable": true,
    "editable": true
   },
   "source": [
    "# Image Classification\n",
    "In this project, you'll classify images from the [CIFAR-10 dataset](https://www.cs.toronto.edu/~kriz/cifar.html).  The dataset consists of airplanes, dogs, cats, and other objects. You'll preprocess the images, then train a convolutional neural network on all the samples. The images need to be normalized and the labels need to be one-hot encoded.  You'll get to apply what you learned and build a convolutional, max pooling, dropout, and fully connected layers.  At the end, you'll get to see your neural network's predictions on the sample images.\n",
    "## Get the Data\n",
    "Run the following cell to download the [CIFAR-10 dataset for python](https://www.cs.toronto.edu/~kriz/cifar-10-python.tar.gz)."
   ]
  },
  {
   "cell_type": "code",
   "execution_count": 1,
   "metadata": {
    "collapsed": false,
    "deletable": true,
    "editable": true
   },
   "outputs": [
    {
     "name": "stdout",
     "output_type": "stream",
     "text": [
      "All files found!\n"
     ]
    }
   ],
   "source": [
    "\"\"\"\n",
    "DON'T MODIFY ANYTHING IN THIS CELL THAT IS BELOW THIS LINE\n",
    "\"\"\"\n",
    "from urllib.request import urlretrieve\n",
    "from os.path import isfile, isdir\n",
    "from tqdm import tqdm\n",
    "import problem_unittests as tests\n",
    "import tarfile\n",
    "\n",
    "cifar10_dataset_folder_path = 'cifar-10-batches-py'\n",
    "\n",
    "class DLProgress(tqdm):\n",
    "    last_block = 0\n",
    "\n",
    "    def hook(self, block_num=1, block_size=1, total_size=None):\n",
    "        self.total = total_size\n",
    "        self.update((block_num - self.last_block) * block_size)\n",
    "        self.last_block = block_num\n",
    "\n",
    "if not isfile('cifar-10-python.tar.gz'):\n",
    "    with DLProgress(unit='B', unit_scale=True, miniters=1, desc='CIFAR-10 Dataset') as pbar:\n",
    "        urlretrieve(\n",
    "            'https://www.cs.toronto.edu/~kriz/cifar-10-python.tar.gz',\n",
    "            'cifar-10-python.tar.gz',\n",
    "            pbar.hook)\n",
    "\n",
    "if not isdir(cifar10_dataset_folder_path):\n",
    "    with tarfile.open('cifar-10-python.tar.gz') as tar:\n",
    "        tar.extractall()\n",
    "        tar.close()\n",
    "\n",
    "\n",
    "tests.test_folder_path(cifar10_dataset_folder_path)"
   ]
  },
  {
   "cell_type": "markdown",
   "metadata": {
    "deletable": true,
    "editable": true
   },
   "source": [
    "## Explore the Data\n",
    "The dataset is broken into batches to prevent your machine from running out of memory.  The CIFAR-10 dataset consists of 5 batches, named `data_batch_1`, `data_batch_2`, etc.. Each batch contains the labels and images that are one of the following:\n",
    "* airplane\n",
    "* automobile\n",
    "* bird\n",
    "* cat\n",
    "* deer\n",
    "* dog\n",
    "* frog\n",
    "* horse\n",
    "* ship\n",
    "* truck\n",
    "\n",
    "Understanding a dataset is part of making predictions on the data.  Play around with the code cell below by changing the `batch_id` and `sample_id`. The `batch_id` is the id for a batch (1-5). The `sample_id` is the id for a image and label pair in the batch.\n",
    "\n",
    "Ask yourself \"What are all possible labels?\", \"What is the range of values for the image data?\", \"Are the labels in order or random?\".  Answers to questions like these will help you preprocess the data and end up with better predictions."
   ]
  },
  {
   "cell_type": "code",
   "execution_count": 2,
   "metadata": {
    "collapsed": false,
    "deletable": true,
    "editable": true
   },
   "outputs": [
    {
     "name": "stdout",
     "output_type": "stream",
     "text": [
      "\n",
      "Stats of batch 3:\n",
      "Samples: 10000\n",
      "Label Counts: {0: 994, 1: 1042, 2: 965, 3: 997, 4: 990, 5: 1029, 6: 978, 7: 1015, 8: 961, 9: 1029}\n",
      "First 20 Labels: [8, 5, 0, 6, 9, 2, 8, 3, 6, 2, 7, 4, 6, 9, 0, 0, 7, 3, 7, 2]\n",
      "\n",
      "Example of Image 9999:\n",
      "Image - Min Value: 3 Max Value: 242\n",
      "Image - Shape: (32, 32, 3)\n",
      "Label - Label Id: 1 Name: automobile\n"
     ]
    },
    {
     "data": {
      "image/png": "[encoded data removed]",
      "text/plain": [
       "<matplotlib.figure.Figure at 0x7fbb1ca931d0>"
      ]
     },
     "metadata": {
      "image/png": {
       "height": 250,
       "width": 253
      }
     },
     "output_type": "display_data"
    }
   ],
   "source": [
    "%matplotlib inline\n",
    "%config InlineBackend.figure_format = 'retina'\n",
    "\n",
    "import helper\n",
    "import numpy as np\n",
    "\n",
    "# Explore the dataset\n",
    "batch_id = 3\n",
    "sample_id = 9999\n",
    "helper.display_stats(cifar10_dataset_folder_path, batch_id, sample_id)"
   ]
  },
  {
   "cell_type": "markdown",
   "metadata": {
    "deletable": true,
    "editable": true
   },
   "source": [
    "## Implement Preprocess Functions\n",
    "### Normalize\n",
    "In the cell below, implement the `normalize` function to take in image data, `x`, and return it as a normalized Numpy array. The values should be in the range of 0 to 1, inclusive.  The return object should be the same shape as `x`."
   ]
  },
  {
   "cell_type": "code",
   "execution_count": 3,
   "metadata": {
    "collapsed": false,
    "deletable": true,
    "editable": true
   },
   "outputs": [
    {
     "name": "stdout",
     "output_type": "stream",
     "text": [
      "Tests Passed\n"
     ]
    }
   ],
   "source": [
    "def normalize(x):\n",
    "    \"\"\"\n",
    "    Normalize a list of sample image data in the range of 0 to 1\n",
    "    : x: List of image data.  The image shape is (32, 32, 3)\n",
    "    : return: Numpy array of normalize data\n",
    "    \"\"\"\n",
    "    # VARUN: Implement Function\n",
    "    #return tf.Variable(tf.truncated_normal((x)))\n",
    "    #print(x)\n",
    "    #print(np.array(x / 255))\n",
    "    return np.array(x / 255)\n",
    "\n",
    "\n",
    "\"\"\"\n",
    "DON'T MODIFY ANYTHING IN THIS CELL THAT IS BELOW THIS LINE\n",
    "\"\"\"\n",
    "tests.test_normalize(normalize)"
   ]
  },
  {
   "cell_type": "markdown",
   "metadata": {
    "deletable": true,
    "editable": true
   },
   "source": [
    "### One-hot encode\n",
    "Just like the previous code cell, you'll be implementing a function for preprocessing.  This time, you'll implement the `one_hot_encode` function. The input, `x`, are a list of labels.  Implement the function to return the list of labels as One-Hot encoded Numpy array.  The possible values for labels are 0 to 9. The one-hot encoding function should return the same encoding for each value between each call to `one_hot_encode`.  Make sure to save the map of encodings outside the function.\n",
    "\n",
    "Hint: Don't reinvent the wheel."
   ]
  },
  {
   "cell_type": "code",
   "execution_count": 4,
   "metadata": {
    "collapsed": false,
    "deletable": true,
    "editable": true
   },
   "outputs": [
    {
     "name": "stdout",
     "output_type": "stream",
     "text": [
      "Tests Passed\n"
     ]
    }
   ],
   "source": [
    "from sklearn import preprocessing\n",
    "\n",
    "# For a list of labels ranging from 0 to 9, that is,\n",
    "#    [0,1,2,3,4,5,6,7,8,9]\n",
    "# We want a one-hot encoded mapping defined outside the one_hot_encode function\n",
    "#   [[1,0,0,0,0,0,0,0,0,0],\n",
    "#    [0,1,0,0,0,0,0,0,0,0],\n",
    "#    ..\n",
    "#    [0,0,0,0,0,0,0,0,0,1]]\n",
    "# I'm using the numpy.eye function to define this mapping.\n",
    "# numpy.eye() -- https://docs.scipy.org/doc/numpy/reference/generated/numpy.eye.html\n",
    "encoding_map = np.eye(10, dtype=int)\n",
    "\n",
    "def one_hot_encode(x):\n",
    "    \"\"\"\n",
    "    One hot encode a list of sample labels. Return a one-hot encoded vector for each label.\n",
    "    : x: List of sample Labels\n",
    "    : return: Numpy array of one-hot encoded labels\n",
    "    \"\"\"\n",
    "    # VARUN: Implement Function\n",
    "    #### DEBUG: print(x)\n",
    "    # Create the encoder\n",
    "    lb = preprocessing.LabelBinarizer()\n",
    "    \n",
    "    # Use the global 'encoding_map' to map the classes and assign one-hot vectors\n",
    "    lb.fit(encoding_map)\n",
    "    #### DEBUG: print(lb.classes_)\n",
    "    \n",
    "    # Transform the list of labels into one-hot encoded vectors\n",
    "    one_hot_x = lb.transform(x)\n",
    "    # Return the list of one-hot encoded vectors\n",
    "    return one_hot_x\n",
    "\n",
    "\n",
    "\"\"\"\n",
    "DON'T MODIFY ANYTHING IN THIS CELL THAT IS BELOW THIS LINE\n",
    "\"\"\"\n",
    "tests.test_one_hot_encode(one_hot_encode)"
   ]
  },
  {
   "cell_type": "markdown",
   "metadata": {
    "deletable": true,
    "editable": true
   },
   "source": [
    "### Randomize Data\n",
    "As you saw from exploring the data above, the order of the samples are randomized.  It doesn't hurt to randomize it again, but you don't need to for this dataset."
   ]
  },
  {
   "cell_type": "markdown",
   "metadata": {
    "deletable": true,
    "editable": true
   },
   "source": [
    "## Preprocess all the data and save it\n",
    "Running the code cell below will preprocess all the CIFAR-10 data and save it to file. The code below also uses 10% of the training data for validation."
   ]
  },
  {
   "cell_type": "code",
   "execution_count": 5,
   "metadata": {
    "collapsed": false,
    "deletable": true,
    "editable": true
   },
   "outputs": [],
   "source": [
    "\"\"\"\n",
    "DON'T MODIFY ANYTHING IN THIS CELL\n",
    "\"\"\"\n",
    "# Preprocess Training, Validation, and Testing Data\n",
    "helper.preprocess_and_save_data(cifar10_dataset_folder_path, normalize, one_hot_encode)"
   ]
  },
  {
   "cell_type": "markdown",
   "metadata": {
    "deletable": true,
    "editable": true
   },
   "source": [
    "# Check Point\n",
    "This is your first checkpoint.  If you ever decide to come back to this notebook or have to restart the notebook, you can start from here.  The preprocessed data has been saved to disk."
   ]
  },
  {
   "cell_type": "code",
   "execution_count": 1,
   "metadata": {
    "collapsed": true,
    "deletable": true,
    "editable": true
   },
   "outputs": [],
   "source": [
    "\"\"\"\n",
    "DON'T MODIFY ANYTHING IN THIS CELL\n",
    "\"\"\"\n",
    "import pickle\n",
    "import problem_unittests as tests\n",
    "import helper\n",
    "\n",
    "# Load the Preprocessed Validation data\n",
    "valid_features, valid_labels = pickle.load(open('preprocess_validation.p', mode='rb'))"
   ]
  },
  {
   "cell_type": "markdown",
   "metadata": {
    "deletable": true,
    "editable": true
   },
   "source": [
    "## Build the network\n",
    "For the neural network, you'll build each layer into a function.  Most of the code you've seen has been outside of functions. To test your code more thoroughly, we require that you put each layer in a function.  This allows us to give you better feedback and test for simple mistakes using our unittests before you submit your project.\n",
    "\n",
    ">**Note:** If you're finding it hard to dedicate enough time for this course each week, we've provided a small shortcut to this part of the project. In the next couple of problems, you'll have the option to use classes from the [TensorFlow Layers](https://www.tensorflow.org/api_docs/python/tf/layers) or [TensorFlow Layers (contrib)](https://www.tensorflow.org/api_guides/python/contrib.layers) packages to build each layer, except the layers you build in the \"Convolutional and Max Pooling Layer\" section.  TF Layers is similar to Keras's and TFLearn's abstraction to layers, so it's easy to pickup.\n",
    "\n",
    ">However, if you would like to get the most out of this course, try to solve all the problems _without_ using anything from the TF Layers packages. You **can** still use classes from other packages that happen to have the same name as ones you find in TF Layers! For example, instead of using the TF Layers version of the `conv2d` class, [tf.layers.conv2d](https://www.tensorflow.org/api_docs/python/tf/layers/conv2d), you would want to use the TF Neural Network version of `conv2d`, [tf.nn.conv2d](https://www.tensorflow.org/api_docs/python/tf/nn/conv2d). \n",
    "\n",
    "Let's begin!\n",
    "\n",
    "### Input\n",
    "The neural network needs to read the image data, one-hot encoded labels, and dropout keep probability. Implement the following functions\n",
    "* Implement `neural_net_image_input`\n",
    " * Return a [TF Placeholder](https://www.tensorflow.org/api_docs/python/tf/placeholder)\n",
    " * Set the shape using `image_shape` with batch size set to `None`.\n",
    " * Name the TensorFlow placeholder \"x\" using the TensorFlow `name` parameter in the [TF Placeholder](https://www.tensorflow.org/api_docs/python/tf/placeholder).\n",
    "* Implement `neural_net_label_input`\n",
    " * Return a [TF Placeholder](https://www.tensorflow.org/api_docs/python/tf/placeholder)\n",
    " * Set the shape using `n_classes` with batch size set to `None`.\n",
    " * Name the TensorFlow placeholder \"y\" using the TensorFlow `name` parameter in the [TF Placeholder](https://www.tensorflow.org/api_docs/python/tf/placeholder).\n",
    "* Implement `neural_net_keep_prob_input`\n",
    " * Return a [TF Placeholder](https://www.tensorflow.org/api_docs/python/tf/placeholder) for dropout keep probability.\n",
    " * Name the TensorFlow placeholder \"keep_prob\" using the TensorFlow `name` parameter in the [TF Placeholder](https://www.tensorflow.org/api_docs/python/tf/placeholder).\n",
    "\n",
    "These names will be used at the end of the project to load your saved model.\n",
    "\n",
    "Note: `None` for shapes in TensorFlow allow for a dynamic size."
   ]
  },
  {
   "cell_type": "code",
   "execution_count": 2,
   "metadata": {
    "collapsed": false,
    "deletable": true,
    "editable": true
   },
   "outputs": [
    {
     "name": "stdout",
     "output_type": "stream",
     "text": [
      "Image Input Tests Passed.\n",
      "Label Input Tests Passed.\n",
      "Keep Prob Tests Passed.\n"
     ]
    }
   ],
   "source": [
    "import tensorflow as tf\n",
    "\n",
    "def neural_net_image_input(image_shape):\n",
    "    \"\"\"\n",
    "    Return a Tensor for a batch of image input\n",
    "    : image_shape: Shape of the images\n",
    "    : return: Tensor for image input.\n",
    "    \"\"\"\n",
    "    # VARUN: Implement Function\n",
    "    image_shape = list(image_shape)\n",
    "    image_shape.insert(0,None)\n",
    "    image_shape_plus_batch = tuple(image_shape)\n",
    "    #### DEBUG: print(image_shape_plus_batch)\n",
    "    return tf.placeholder(tf.float32, image_shape_plus_batch, name='x')\n",
    "\n",
    "\n",
    "def neural_net_label_input(n_classes):\n",
    "    \"\"\"\n",
    "    Return a Tensor for a batch of label input\n",
    "    : n_classes: Number of classes\n",
    "    : return: Tensor for label input.\n",
    "    \"\"\"\n",
    "    # VARUN: Implement Function\n",
    "    return tf.placeholder(tf.float32, [None, n_classes], name='y')\n",
    "\n",
    "\n",
    "def neural_net_keep_prob_input():\n",
    "    \"\"\"\n",
    "    Return a Tensor for keep probability\n",
    "    : return: Tensor for keep probability.\n",
    "    \"\"\"\n",
    "    # VARUN: Implement Function\n",
    "    return tf.placeholder(tf.float32, name='keep_prob')\n",
    "\n",
    "\n",
    "\"\"\"\n",
    "DON'T MODIFY ANYTHING IN THIS CELL THAT IS BELOW THIS LINE\n",
    "\"\"\"\n",
    "tf.reset_default_graph()\n",
    "tests.test_nn_image_inputs(neural_net_image_input)\n",
    "tests.test_nn_label_inputs(neural_net_label_input)\n",
    "tests.test_nn_keep_prob_inputs(neural_net_keep_prob_input)"
   ]
  },
  {
   "cell_type": "markdown",
   "metadata": {
    "deletable": true,
    "editable": true
   },
   "source": [
    "### Convolution and Max Pooling Layer\n",
    "Convolution layers have a lot of success with images. For this code cell, you should implement the function `conv2d_maxpool` to apply convolution then max pooling:\n",
    "* Create the weight and bias using `conv_ksize`, `conv_num_outputs` and the shape of `x_tensor`.\n",
    "* Apply a convolution to `x_tensor` using weight and `conv_strides`.\n",
    " * We recommend you use same padding, but you're welcome to use any padding.\n",
    "* Add bias\n",
    "* Add a nonlinear activation to the convolution.\n",
    "* Apply Max Pooling using `pool_ksize` and `pool_strides`.\n",
    " * We recommend you use same padding, but you're welcome to use any padding.\n",
    "\n",
    "**Note:** You **can't** use [TensorFlow Layers](https://www.tensorflow.org/api_docs/python/tf/layers) or [TensorFlow Layers (contrib)](https://www.tensorflow.org/api_guides/python/contrib.layers) for **this** layer, but you can still use TensorFlow's [Neural Network](https://www.tensorflow.org/api_docs/python/tf/nn) package. You may still use the shortcut option for all the **other** layers."
   ]
  },
  {
   "cell_type": "code",
   "execution_count": 3,
   "metadata": {
    "collapsed": false,
    "deletable": true,
    "editable": true
   },
   "outputs": [
    {
     "name": "stdout",
     "output_type": "stream",
     "text": [
      "Tests Passed\n"
     ]
    }
   ],
   "source": [
    "def conv2d_maxpool(x_tensor, conv_num_outputs, conv_ksize, conv_strides, pool_ksize, pool_strides):\n",
    "    \"\"\"\n",
    "    Apply convolution then max pooling to x_tensor\n",
    "    :param x_tensor: TensorFlow Tensor\n",
    "    :param conv_num_outputs: Number of outputs for the convolutional layer\n",
    "    :param conv_ksize: kernal size 2-D Tuple for the convolutional layer\n",
    "    :param conv_strides: Stride 2-D Tuple for convolution\n",
    "    :param pool_ksize: kernal size 2-D Tuple for pool\n",
    "    :param pool_strides: Stride 2-D Tuple for pool\n",
    "    : return: A tensor that represents convolution and max pooling of x_tensor\n",
    "    \"\"\"\n",
    "    # VARUN: Implement Function\n",
    "    #### DEBUG\n",
    "    #print(x_tensor)\n",
    "    # Tensor(\"Placeholder:0\", shape=(?, 32, 32, 5), dtype=float32)\n",
    "    #print(conv_num_outputs)\n",
    "    # 10\n",
    "    #print(conv_ksize)\n",
    "    # (2, 2)\n",
    "    #print(conv_strides)\n",
    "    # (4, 4)\n",
    "    #print(pool_ksize)\n",
    "    # (2, 2)\n",
    "    #print(pool_strides)\n",
    "    # (2, 2)\n",
    "    ####\n",
    "    \n",
    "    # Get the channels from x_tensor shape.\n",
    "    # For example, the value 5 from x_tensor shape below\n",
    "    #     shape=(?, 32, 32, 5)\n",
    "    x_channels = x_tensor.get_shape().as_list()[3]\n",
    "    \n",
    "    # Weight and bias\n",
    "    ###weight = tf.Variable(tf.truncated_normal(\n",
    "    ###[filter_size_height, filter_size_width, color_channels, k_output]))\n",
    "    weight_params = list(conv_ksize)\n",
    "    weight_params.append(x_channels)\n",
    "    weight_params.append(conv_num_outputs)\n",
    "    # print(weight_params)\n",
    "    weight = tf.Variable(tf.truncated_normal(weight_params,mean=0.0,stddev = 0.1))\n",
    "    bias = tf.Variable(tf.zeros(conv_num_outputs))\n",
    "    \n",
    "    # Convert conv_strides from (4, 4) tuple to [4, 4] list\n",
    "    # Add the batches value 1 at the beginning - index 0, \n",
    "    #     and channels value 1 at the end - index 3\n",
    "    # so that we have [1, 4, 4, 1]\n",
    "    conv_strides = list(conv_strides)\n",
    "    conv_strides.insert(0, 1)\n",
    "    conv_strides.insert(3, 1)\n",
    "    # print(conv_strides)\n",
    "        \n",
    "    # Apply Convolution\n",
    "    conv_layer = tf.nn.conv2d(x_tensor, weight, conv_strides, padding='SAME')\n",
    "    # Add bias\n",
    "    conv_layer = tf.nn.bias_add(conv_layer, bias)\n",
    "    # Apply ReLU activation function\n",
    "    conv_layer = tf.nn.relu(conv_layer)\n",
    "    # Apply Max Pooling using pool_ksize and pool_strides\n",
    "    conv_layer = tf.nn.max_pool(\n",
    "        conv_layer,\n",
    "        ksize=[1] + list(pool_ksize) + [1],\n",
    "        strides=[1] + list(pool_strides) + [1],\n",
    "        padding='SAME')\n",
    "    \n",
    "    return conv_layer\n",
    "\n",
    "\n",
    "\"\"\"\n",
    "DON'T MODIFY ANYTHING IN THIS CELL THAT IS BELOW THIS LINE\n",
    "\"\"\"\n",
    "tests.test_con_pool(conv2d_maxpool)"
   ]
  },
  {
   "cell_type": "markdown",
   "metadata": {
    "deletable": true,
    "editable": true
   },
   "source": [
    "### Flatten Layer\n",
    "Implement the `flatten` function to change the dimension of `x_tensor` from a 4-D tensor to a 2-D tensor.  The output should be the shape (*Batch Size*, *Flattened Image Size*). Shortcut option: you can use classes from the [TensorFlow Layers](https://www.tensorflow.org/api_docs/python/tf/layers) or [TensorFlow Layers (contrib)](https://www.tensorflow.org/api_guides/python/contrib.layers) packages for this layer. For more of a challenge, only use other TensorFlow packages."
   ]
  },
  {
   "cell_type": "code",
   "execution_count": 4,
   "metadata": {
    "collapsed": false,
    "deletable": true,
    "editable": true
   },
   "outputs": [
    {
     "name": "stdout",
     "output_type": "stream",
     "text": [
      "Tests Passed\n"
     ]
    }
   ],
   "source": [
    "def flatten(x_tensor):\n",
    "    \"\"\"\n",
    "    Flatten x_tensor to (Batch Size, Flattened Image Size)\n",
    "    : x_tensor: A tensor of size (Batch Size, ...), where ... are the image dimensions.\n",
    "    : return: A tensor of size (Batch Size, Flattened Image Size).\n",
    "    \"\"\"\n",
    "    # VARUN: Implement Function\n",
    "    flat_image_size = \\\n",
    "        x_tensor.get_shape().as_list()[1] * x_tensor.get_shape().as_list()[2] * x_tensor.get_shape().as_list()[3]\n",
    "    #### DEBUG: print(flat_image_size)\n",
    "    # tf.reshape(x, [-1, n_input])\n",
    "    return tf.reshape(x_tensor, [-1, flat_image_size])\n",
    "\n",
    "\n",
    "\"\"\"\n",
    "DON'T MODIFY ANYTHING IN THIS CELL THAT IS BELOW THIS LINE\n",
    "\"\"\"\n",
    "tests.test_flatten(flatten)"
   ]
  },
  {
   "cell_type": "markdown",
   "metadata": {
    "deletable": true,
    "editable": true
   },
   "source": [
    "### Fully-Connected Layer\n",
    "Implement the `fully_conn` function to apply a fully connected layer to `x_tensor` with the shape (*Batch Size*, *num_outputs*). Shortcut option: you can use classes from the [TensorFlow Layers](https://www.tensorflow.org/api_docs/python/tf/layers) or [TensorFlow Layers (contrib)](https://www.tensorflow.org/api_guides/python/contrib.layers) packages for this layer. For more of a challenge, only use other TensorFlow packages."
   ]
  },
  {
   "cell_type": "code",
   "execution_count": 5,
   "metadata": {
    "collapsed": false,
    "deletable": true,
    "editable": true
   },
   "outputs": [
    {
     "name": "stdout",
     "output_type": "stream",
     "text": [
      "Tests Passed\n"
     ]
    }
   ],
   "source": [
    "def fully_conn(x_tensor, num_outputs):\n",
    "    \"\"\"\n",
    "    Apply a fully connected layer to x_tensor using weight and bias\n",
    "    : x_tensor: A 2-D tensor where the first dimension is batch size.\n",
    "    : num_outputs: The number of output that the new tensor should be.\n",
    "    : return: A 2-D tensor where the second dimension is num_outputs.\n",
    "    \"\"\"\n",
    "    # VARUN: Implement Function\n",
    "    flat_image_size = x_tensor.get_shape().as_list()[1]\n",
    "    weights_fully_conn = tf.Variable(tf.random_normal([flat_image_size, num_outputs]))\n",
    "    biases_fully_conn = tf.Variable(tf.random_normal([num_outputs]))\n",
    "    fc_layer = tf.add(tf.matmul(x_tensor, weights_fully_conn), biases_fully_conn)\n",
    "    fc_layer = tf.nn.relu(fc_layer)\n",
    "    return fc_layer\n",
    "\n",
    "    # Shortcut method - did not use in final revision\n",
    "    #return tf.layers.dense(inputs=x_tensor, units=num_outputs, activation=tf.nn.relu)\n",
    "\n",
    "\n",
    "\"\"\"\n",
    "DON'T MODIFY ANYTHING IN THIS CELL THAT IS BELOW THIS LINE\n",
    "\"\"\"\n",
    "tests.test_fully_conn(fully_conn)"
   ]
  },
  {
   "cell_type": "markdown",
   "metadata": {
    "deletable": true,
    "editable": true
   },
   "source": [
    "### Output Layer\n",
    "Implement the `output` function to apply a fully connected layer to `x_tensor` with the shape (*Batch Size*, *num_outputs*). Shortcut option: you can use classes from the [TensorFlow Layers](https://www.tensorflow.org/api_docs/python/tf/layers) or [TensorFlow Layers (contrib)](https://www.tensorflow.org/api_guides/python/contrib.layers) packages for this layer. For more of a challenge, only use other TensorFlow packages.\n",
    "\n",
    "**Note:** Activation, softmax, or cross entropy should **not** be applied to this."
   ]
  },
  {
   "cell_type": "code",
   "execution_count": 6,
   "metadata": {
    "collapsed": false,
    "deletable": true,
    "editable": true
   },
   "outputs": [
    {
     "name": "stdout",
     "output_type": "stream",
     "text": [
      "Tests Passed\n"
     ]
    }
   ],
   "source": [
    "def output(x_tensor, num_outputs):\n",
    "    \"\"\"\n",
    "    Apply a output layer to x_tensor using weight and bias\n",
    "    : x_tensor: A 2-D tensor where the first dimension is batch size.\n",
    "    : num_outputs: The number of output that the new tensor should be.\n",
    "    : return: A 2-D tensor where the second dimension is num_outputs.\n",
    "    \"\"\"\n",
    "    # VARUN: Implement Function\n",
    "    ####out = tf.add(tf.matmul(fc1, weights['out']), biases['out'])\n",
    "\n",
    "    tensor_shape = x_tensor.get_shape().as_list()\n",
    "    #### DEBUG: print(tensor_shape)\n",
    "    #### DEBUG: print(num_outputs)\n",
    "    \n",
    "    weights_out = tf.Variable(tf.random_normal([tensor_shape[1], num_outputs]))\n",
    "    biases_out = tf.Variable(tf.random_normal([num_outputs]))\n",
    "    #### DEBUG: print(weights_out.get_shape())\n",
    "    #### DEBUG: print(biases_out)\n",
    "    \n",
    "    output = tf.add(tf.matmul(x_tensor, weights_out), biases_out)\n",
    "\n",
    "    return output\n",
    "\n",
    "\n",
    "\"\"\"\n",
    "DON'T MODIFY ANYTHING IN THIS CELL THAT IS BELOW THIS LINE\n",
    "\"\"\"\n",
    "tests.test_output(output)"
   ]
  },
  {
   "cell_type": "markdown",
   "metadata": {
    "deletable": true,
    "editable": true
   },
   "source": [
    "### Create Convolutional Model\n",
    "Implement the function `conv_net` to create a convolutional neural network model. The function takes in a batch of images, `x`, and outputs logits.  Use the layers you created above to create this model:\n",
    "\n",
    "* Apply 1, 2, or 3 Convolution and Max Pool layers\n",
    "* Apply a Flatten Layer\n",
    "* Apply 1, 2, or 3 Fully Connected Layers\n",
    "* Apply an Output Layer\n",
    "* Return the output\n",
    "* Apply [TensorFlow's Dropout](https://www.tensorflow.org/api_docs/python/tf/nn/dropout) to one or more layers in the model using `keep_prob`. "
   ]
  },
  {
   "cell_type": "code",
   "execution_count": 7,
   "metadata": {
    "collapsed": false,
    "deletable": true,
    "editable": true
   },
   "outputs": [
    {
     "name": "stdout",
     "output_type": "stream",
     "text": [
      "Neural Network Built!\n"
     ]
    }
   ],
   "source": [
    "def conv_net(x, keep_prob):\n",
    "    \"\"\"\n",
    "    Create a convolutional neural network model\n",
    "    : x: Placeholder tensor that holds image data.\n",
    "    : keep_prob: Placeholder tensor that hold dropout keep probability.\n",
    "    : return: Tensor that represents logits\n",
    "    \"\"\"\n",
    "    # VARUN: Apply 1, 2, or 3 Convolution and Max Pool layers\n",
    "    #    Play around with different number of outputs, kernel size and stride\n",
    "    # Function Definition from Above:\n",
    "    #    conv2d_maxpool(x_tensor, conv_num_outputs, conv_ksize, conv_strides, pool_ksize, pool_strides)\n",
    "    # First Convolution and Max Pool layer\n",
    "    x_tensor = x\n",
    "    conv1_num_outputs = 32\n",
    "    conv1_ksize = (3, 3)\n",
    "    conv1_strides = (2, 2)\n",
    "    pool1_ksize = (2, 2)\n",
    "    pool1_strides = (2, 2)\n",
    "    conv1 = conv2d_maxpool(x_tensor, conv1_num_outputs, conv1_ksize, conv1_strides, pool1_ksize, pool1_strides)\n",
    "    \n",
    "    # Second Convolution and Max Pool layer\n",
    "    # Use stride of 1x1 in this convolution layer for better accuracy\n",
    "    conv2_num_outputs = 64\n",
    "    conv2_ksize = (3, 3)\n",
    "    conv2_strides = (1, 1)\n",
    "    pool2_ksize = (2, 2)\n",
    "    pool2_strides = (2, 2)\n",
    "    conv2 = conv2d_maxpool(conv1, conv2_num_outputs, conv2_ksize, conv2_strides, pool2_ksize, pool2_strides)\n",
    "    \n",
    "    # VARUN: Apply a Flatten Layer\n",
    "    # Function Definition from Above:\n",
    "    #   flatten(x_tensor)\n",
    "    flat = flatten(conv2)\n",
    " \n",
    "    # Fully connected layer with 512 outputs\n",
    "    fc1_outputs = 512\n",
    "\n",
    "    # VARUN: Apply 1, 2, or 3 Fully Connected Layers\n",
    "    #    Play around with different number of outputs\n",
    "    # Function Definition from Above:\n",
    "    #   fully_conn(x_tensor, num_outputs)\n",
    "    fc1 = fully_conn(flat, fc1_outputs)\n",
    "    fc1 = tf.nn.dropout(fc1, keep_prob)\n",
    "\n",
    "    # num_outputs is the number of image labels, 0 through 9\n",
    "    num_outputs = 10\n",
    "\n",
    "    # VARUN: Apply an Output Layer\n",
    "    #    Set this to the number of classes\n",
    "    # Function Definition from Above:\n",
    "    #   output(x_tensor, num_outputs)\n",
    "    out = output(fc1, num_outputs)\n",
    "    \n",
    "    # VARUN: return output\n",
    "    return out\n",
    "\n",
    "\n",
    "\"\"\"\n",
    "DON'T MODIFY ANYTHING IN THIS CELL THAT IS BELOW THIS LINE\n",
    "\"\"\"\n",
    "\n",
    "##############################\n",
    "## Build the Neural Network ##\n",
    "##############################\n",
    "\n",
    "# Remove previous weights, bias, inputs, etc..\n",
    "tf.reset_default_graph()\n",
    "\n",
    "# Inputs\n",
    "x = neural_net_image_input((32, 32, 3))\n",
    "y = neural_net_label_input(10)\n",
    "keep_prob = neural_net_keep_prob_input()\n",
    "\n",
    "# Model\n",
    "logits = conv_net(x, keep_prob)\n",
    "\n",
    "# Name logits Tensor, so that is can be loaded from disk after training\n",
    "logits = tf.identity(logits, name='logits')\n",
    "\n",
    "# Loss and Optimizer\n",
    "cost = tf.reduce_mean(tf.nn.softmax_cross_entropy_with_logits(logits=logits, labels=y))\n",
    "optimizer = tf.train.AdamOptimizer().minimize(cost)\n",
    "\n",
    "# Accuracy\n",
    "correct_pred = tf.equal(tf.argmax(logits, 1), tf.argmax(y, 1))\n",
    "accuracy = tf.reduce_mean(tf.cast(correct_pred, tf.float32), name='accuracy')\n",
    "\n",
    "tests.test_conv_net(conv_net)"
   ]
  },
  {
   "cell_type": "markdown",
   "metadata": {
    "deletable": true,
    "editable": true
   },
   "source": [
    "## Train the Neural Network\n",
    "### Single Optimization\n",
    "Implement the function `train_neural_network` to do a single optimization.  The optimization should use `optimizer` to optimize in `session` with a `feed_dict` of the following:\n",
    "* `x` for image input\n",
    "* `y` for labels\n",
    "* `keep_prob` for keep probability for dropout\n",
    "\n",
    "This function will be called for each batch, so `tf.global_variables_initializer()` has already been called.\n",
    "\n",
    "Note: Nothing needs to be returned. This function is only optimizing the neural network."
   ]
  },
  {
   "cell_type": "code",
   "execution_count": 8,
   "metadata": {
    "collapsed": false,
    "deletable": true,
    "editable": true
   },
   "outputs": [
    {
     "name": "stdout",
     "output_type": "stream",
     "text": [
      "Tests Passed\n"
     ]
    }
   ],
   "source": [
    "def train_neural_network(session, optimizer, keep_probability, feature_batch, label_batch):\n",
    "    \"\"\"\n",
    "    Optimize the session on a batch of images and labels\n",
    "    : session: Current TensorFlow session\n",
    "    : optimizer: TensorFlow optimizer function\n",
    "    : keep_probability: keep probability\n",
    "    : feature_batch: Batch of Numpy image data\n",
    "    : label_batch: Batch of Numpy label data\n",
    "    \"\"\"\n",
    "    # VARUN: Implement Function\n",
    "    \n",
    "    # NOTE: the TF Placeholders for x, y and keep_prob were created\n",
    "    #       at the beginning of this file.\n",
    "    #x_placeholder = tf.placeholder(tf.float32, [None, 32, 32, 3])\n",
    "    #y_placeholder = tf.placeholder(tf.float32, [None, 10])\n",
    "    #keep_prob_placeholder = tf.placeholder(tf.float32)\n",
    "    \n",
    "    session.run(optimizer, feed_dict={\n",
    "        x: feature_batch,\n",
    "        y: label_batch,\n",
    "        keep_prob: keep_probability})\n",
    "\n",
    "\"\"\"\n",
    "DON'T MODIFY ANYTHING IN THIS CELL THAT IS BELOW THIS LINE\n",
    "\"\"\"\n",
    "tests.test_train_nn(train_neural_network)"
   ]
  },
  {
   "cell_type": "markdown",
   "metadata": {
    "deletable": true,
    "editable": true
   },
   "source": [
    "### Show Stats\n",
    "Implement the function `print_stats` to print loss and validation accuracy.  Use the global variables `valid_features` and `valid_labels` to calculate validation accuracy.  Use a keep probability of `1.0` to calculate the loss and validation accuracy."
   ]
  },
  {
   "cell_type": "code",
   "execution_count": 9,
   "metadata": {
    "collapsed": false,
    "deletable": true,
    "editable": true
   },
   "outputs": [],
   "source": [
    "def print_stats(session, feature_batch, label_batch, cost, accuracy):\n",
    "    \"\"\"\n",
    "    Print information about loss and validation accuracy\n",
    "    : session: Current TensorFlow session\n",
    "    : feature_batch: Batch of Numpy image data\n",
    "    : label_batch: Batch of Numpy label data\n",
    "    : cost: TensorFlow cost function\n",
    "    : accuracy: TensorFlow accuracy function\n",
    "    \"\"\"\n",
    "    # VARUN: Implement Function    \n",
    "    loss = session.run(cost, feed_dict={\n",
    "        x: feature_batch,\n",
    "        y: label_batch,\n",
    "        keep_prob: 1.0})\n",
    "    valid_acc = session.run(accuracy, feed_dict={\n",
    "        x: valid_features,\n",
    "        y: valid_labels,\n",
    "        keep_prob: 1.0})\n",
    "\n",
    "    print('Loss: {:>10.4f} Validation Accuracy: {:.6f}'.format(\n",
    "            loss,\n",
    "            valid_acc))"
   ]
  },
  {
   "cell_type": "markdown",
   "metadata": {
    "deletable": true,
    "editable": true
   },
   "source": [
    "### Hyperparameters\n",
    "Tune the following parameters:\n",
    "* Set `epochs` to the number of iterations until the network stops learning or start overfitting\n",
    "* Set `batch_size` to the highest number that your machine has memory for.  Most people set them to common sizes of memory:\n",
    " * 64\n",
    " * 128\n",
    " * 256\n",
    " * ...\n",
    "* Set `keep_probability` to the probability of keeping a node using dropout"
   ]
  },
  {
   "cell_type": "code",
   "execution_count": 10,
   "metadata": {
    "collapsed": true,
    "deletable": true,
    "editable": true
   },
   "outputs": [],
   "source": [
    "# VARUN: Tune Parameters\n",
    "##### NOTE - While tuning these hyperparameters in conjunction with\n",
    "##### ksize & strides params in the conv_net function, the results\n",
    "##### in terms of accurracy were as follows:\n",
    "#####     * In my 'Train on a Single CIFAR-10 Batch' trials, the\n",
    "#####       validation accuracy kept fluctuating in the range of\n",
    "#####       45% to 49%.\n",
    "#####     * In the Fully Train (all five batches) and Test Model\n",
    "#####       steps, the model achieved an accuracy of 60%.\n",
    "epochs = 50\n",
    "batch_size = 128\n",
    "keep_probability = 0.75"
   ]
  },
  {
   "cell_type": "markdown",
   "metadata": {
    "deletable": true,
    "editable": true
   },
   "source": [
    "### Train on a Single CIFAR-10 Batch\n",
    "Instead of training the neural network on all the CIFAR-10 batches of data, let's use a single batch. This should save time while you iterate on the model to get a better accuracy.  Once the final validation accuracy is 50% or greater, run the model on all the data in the next section."
   ]
  },
  {
   "cell_type": "code",
   "execution_count": 11,
   "metadata": {
    "collapsed": false,
    "deletable": true,
    "editable": true
   },
   "outputs": [
    {
     "name": "stdout",
     "output_type": "stream",
     "text": [
      "Checking the Training on a Single Batch...\n",
      "Epoch  1, CIFAR-10 Batch 1:  Loss:     9.7868 Validation Accuracy: 0.183600\n",
      "Epoch  2, CIFAR-10 Batch 1:  Loss:     5.2838 Validation Accuracy: 0.225200\n",
      "Epoch  3, CIFAR-10 Batch 1:  Loss:     4.3501 Validation Accuracy: 0.243000\n",
      "Epoch  4, CIFAR-10 Batch 1:  Loss:     4.0627 Validation Accuracy: 0.271000\n",
      "Epoch  5, CIFAR-10 Batch 1:  Loss:     3.0266 Validation Accuracy: 0.308400\n",
      "Epoch  6, CIFAR-10 Batch 1:  Loss:     2.9595 Validation Accuracy: 0.316200\n",
      "Epoch  7, CIFAR-10 Batch 1:  Loss:     2.5182 Validation Accuracy: 0.325400\n",
      "Epoch  8, CIFAR-10 Batch 1:  Loss:     2.1115 Validation Accuracy: 0.308400\n",
      "Epoch  9, CIFAR-10 Batch 1:  Loss:     1.8794 Validation Accuracy: 0.313800\n",
      "Epoch 10, CIFAR-10 Batch 1:  Loss:     1.7186 Validation Accuracy: 0.311200\n",
      "Epoch 11, CIFAR-10 Batch 1:  Loss:     1.7178 Validation Accuracy: 0.335000\n",
      "Epoch 12, CIFAR-10 Batch 1:  Loss:     1.7264 Validation Accuracy: 0.347800\n",
      "Epoch 13, CIFAR-10 Batch 1:  Loss:     1.6560 Validation Accuracy: 0.357400\n",
      "Epoch 14, CIFAR-10 Batch 1:  Loss:     1.6272 Validation Accuracy: 0.354600\n",
      "Epoch 15, CIFAR-10 Batch 1:  Loss:     1.5467 Validation Accuracy: 0.362200\n",
      "Epoch 16, CIFAR-10 Batch 1:  Loss:     1.5710 Validation Accuracy: 0.371800\n",
      "Epoch 17, CIFAR-10 Batch 1:  Loss:     1.4749 Validation Accuracy: 0.369800\n",
      "Epoch 18, CIFAR-10 Batch 1:  Loss:     1.4558 Validation Accuracy: 0.381800\n",
      "Epoch 19, CIFAR-10 Batch 1:  Loss:     1.3966 Validation Accuracy: 0.385000\n",
      "Epoch 20, CIFAR-10 Batch 1:  Loss:     1.4087 Validation Accuracy: 0.379000\n",
      "Epoch 21, CIFAR-10 Batch 1:  Loss:     1.4106 Validation Accuracy: 0.391200\n",
      "Epoch 22, CIFAR-10 Batch 1:  Loss:     1.3715 Validation Accuracy: 0.398000\n",
      "Epoch 23, CIFAR-10 Batch 1:  Loss:     1.3468 Validation Accuracy: 0.402200\n",
      "Epoch 24, CIFAR-10 Batch 1:  Loss:     1.3674 Validation Accuracy: 0.399000\n",
      "Epoch 25, CIFAR-10 Batch 1:  Loss:     1.2924 Validation Accuracy: 0.408800\n",
      "Epoch 26, CIFAR-10 Batch 1:  Loss:     1.2639 Validation Accuracy: 0.405800\n",
      "Epoch 27, CIFAR-10 Batch 1:  Loss:     1.2749 Validation Accuracy: 0.424400\n",
      "Epoch 28, CIFAR-10 Batch 1:  Loss:     1.2186 Validation Accuracy: 0.413400\n",
      "Epoch 29, CIFAR-10 Batch 1:  Loss:     1.1388 Validation Accuracy: 0.427200\n",
      "Epoch 30, CIFAR-10 Batch 1:  Loss:     1.1785 Validation Accuracy: 0.426200\n",
      "Epoch 31, CIFAR-10 Batch 1:  Loss:     1.1129 Validation Accuracy: 0.429400\n",
      "Epoch 32, CIFAR-10 Batch 1:  Loss:     1.1194 Validation Accuracy: 0.433400\n",
      "Epoch 33, CIFAR-10 Batch 1:  Loss:     1.0575 Validation Accuracy: 0.436200\n",
      "Epoch 34, CIFAR-10 Batch 1:  Loss:     1.0807 Validation Accuracy: 0.442600\n",
      "Epoch 35, CIFAR-10 Batch 1:  Loss:     1.0616 Validation Accuracy: 0.435200\n",
      "Epoch 36, CIFAR-10 Batch 1:  Loss:     1.0484 Validation Accuracy: 0.437000\n",
      "Epoch 37, CIFAR-10 Batch 1:  Loss:     0.9973 Validation Accuracy: 0.442800\n",
      "Epoch 38, CIFAR-10 Batch 1:  Loss:     1.0095 Validation Accuracy: 0.437400\n",
      "Epoch 39, CIFAR-10 Batch 1:  Loss:     0.9643 Validation Accuracy: 0.438000\n",
      "Epoch 40, CIFAR-10 Batch 1:  Loss:     0.9082 Validation Accuracy: 0.454000\n",
      "Epoch 41, CIFAR-10 Batch 1:  Loss:     0.9424 Validation Accuracy: 0.444400\n",
      "Epoch 42, CIFAR-10 Batch 1:  Loss:     0.9210 Validation Accuracy: 0.455400\n",
      "Epoch 43, CIFAR-10 Batch 1:  Loss:     0.9214 Validation Accuracy: 0.448200\n",
      "Epoch 44, CIFAR-10 Batch 1:  Loss:     0.8745 Validation Accuracy: 0.453000\n",
      "Epoch 45, CIFAR-10 Batch 1:  Loss:     0.8284 Validation Accuracy: 0.453800\n",
      "Epoch 46, CIFAR-10 Batch 1:  Loss:     0.8588 Validation Accuracy: 0.451000\n",
      "Epoch 47, CIFAR-10 Batch 1:  Loss:     0.8767 Validation Accuracy: 0.451200\n",
      "Epoch 48, CIFAR-10 Batch 1:  Loss:     0.8133 Validation Accuracy: 0.448400\n",
      "Epoch 49, CIFAR-10 Batch 1:  Loss:     0.8013 Validation Accuracy: 0.456000\n",
      "Epoch 50, CIFAR-10 Batch 1:  Loss:     0.8491 Validation Accuracy: 0.447600\n"
     ]
    }
   ],
   "source": [
    "\"\"\"\n",
    "DON'T MODIFY ANYTHING IN THIS CELL\n",
    "\"\"\"\n",
    "print('Checking the Training on a Single Batch...')\n",
    "with tf.Session() as sess:\n",
    "    # Initializing the variables\n",
    "    sess.run(tf.global_variables_initializer())\n",
    "    \n",
    "    # Training cycle\n",
    "    for epoch in range(epochs):\n",
    "        batch_i = 1\n",
    "        for batch_features, batch_labels in helper.load_preprocess_training_batch(batch_i, batch_size):\n",
    "            train_neural_network(sess, optimizer, keep_probability, batch_features, batch_labels)\n",
    "        print('Epoch {:>2}, CIFAR-10 Batch {}:  '.format(epoch + 1, batch_i), end='')\n",
    "        print_stats(sess, batch_features, batch_labels, cost, accuracy)"
   ]
  },
  {
   "cell_type": "markdown",
   "metadata": {
    "deletable": true,
    "editable": true
   },
   "source": [
    "### Fully Train the Model\n",
    "Now that you got a good accuracy with a single CIFAR-10 batch, try it with all five batches."
   ]
  },
  {
   "cell_type": "code",
   "execution_count": 12,
   "metadata": {
    "collapsed": false,
    "deletable": true,
    "editable": true
   },
   "outputs": [
    {
     "name": "stdout",
     "output_type": "stream",
     "text": [
      "Training...\n",
      "Epoch  1, CIFAR-10 Batch 1:  Loss:     6.0812 Validation Accuracy: 0.178600\n",
      "Epoch  1, CIFAR-10 Batch 2:  Loss:     5.0122 Validation Accuracy: 0.247800\n",
      "Epoch  1, CIFAR-10 Batch 3:  Loss:     3.5130 Validation Accuracy: 0.297600\n",
      "Epoch  1, CIFAR-10 Batch 4:  Loss:     3.3877 Validation Accuracy: 0.303800\n",
      "Epoch  1, CIFAR-10 Batch 5:  Loss:     3.5612 Validation Accuracy: 0.297000\n",
      "Epoch  2, CIFAR-10 Batch 1:  Loss:     2.6697 Validation Accuracy: 0.333200\n",
      "Epoch  2, CIFAR-10 Batch 2:  Loss:     2.2815 Validation Accuracy: 0.323000\n",
      "Epoch  2, CIFAR-10 Batch 3:  Loss:     2.1449 Validation Accuracy: 0.313800\n",
      "Epoch  2, CIFAR-10 Batch 4:  Loss:     1.6105 Validation Accuracy: 0.323400\n",
      "Epoch  2, CIFAR-10 Batch 5:  Loss:     1.7134 Validation Accuracy: 0.345800\n",
      "Epoch  3, CIFAR-10 Batch 1:  Loss:     2.0071 Validation Accuracy: 0.370200\n",
      "Epoch  3, CIFAR-10 Batch 2:  Loss:     1.9418 Validation Accuracy: 0.359000\n",
      "Epoch  3, CIFAR-10 Batch 3:  Loss:     1.8219 Validation Accuracy: 0.355600\n",
      "Epoch  3, CIFAR-10 Batch 4:  Loss:     1.4176 Validation Accuracy: 0.378200\n",
      "Epoch  3, CIFAR-10 Batch 5:  Loss:     1.6582 Validation Accuracy: 0.390000\n",
      "Epoch  4, CIFAR-10 Batch 1:  Loss:     1.9646 Validation Accuracy: 0.386400\n",
      "Epoch  4, CIFAR-10 Batch 2:  Loss:     1.8479 Validation Accuracy: 0.384000\n",
      "Epoch  4, CIFAR-10 Batch 3:  Loss:     1.5987 Validation Accuracy: 0.388800\n",
      "Epoch  4, CIFAR-10 Batch 4:  Loss:     1.3400 Validation Accuracy: 0.416800\n",
      "Epoch  4, CIFAR-10 Batch 5:  Loss:     1.5953 Validation Accuracy: 0.422400\n",
      "Epoch  5, CIFAR-10 Batch 1:  Loss:     1.7703 Validation Accuracy: 0.428000\n",
      "Epoch  5, CIFAR-10 Batch 2:  Loss:     1.7075 Validation Accuracy: 0.422400\n",
      "Epoch  5, CIFAR-10 Batch 3:  Loss:     1.4717 Validation Accuracy: 0.406200\n",
      "Epoch  5, CIFAR-10 Batch 4:  Loss:     1.3901 Validation Accuracy: 0.438200\n",
      "Epoch  5, CIFAR-10 Batch 5:  Loss:     1.6239 Validation Accuracy: 0.428000\n",
      "Epoch  6, CIFAR-10 Batch 1:  Loss:     1.5698 Validation Accuracy: 0.428000\n",
      "Epoch  6, CIFAR-10 Batch 2:  Loss:     1.6238 Validation Accuracy: 0.455600\n",
      "Epoch  6, CIFAR-10 Batch 3:  Loss:     1.4810 Validation Accuracy: 0.427400\n",
      "Epoch  6, CIFAR-10 Batch 4:  Loss:     1.3300 Validation Accuracy: 0.457200\n",
      "Epoch  6, CIFAR-10 Batch 5:  Loss:     1.5321 Validation Accuracy: 0.461000\n",
      "Epoch  7, CIFAR-10 Batch 1:  Loss:     1.5187 Validation Accuracy: 0.454400\n",
      "Epoch  7, CIFAR-10 Batch 2:  Loss:     1.4600 Validation Accuracy: 0.457200\n",
      "Epoch  7, CIFAR-10 Batch 3:  Loss:     1.3586 Validation Accuracy: 0.448200\n",
      "Epoch  7, CIFAR-10 Batch 4:  Loss:     1.2668 Validation Accuracy: 0.446400\n",
      "Epoch  7, CIFAR-10 Batch 5:  Loss:     1.5202 Validation Accuracy: 0.454800\n",
      "Epoch  8, CIFAR-10 Batch 1:  Loss:     1.4419 Validation Accuracy: 0.474800\n",
      "Epoch  8, CIFAR-10 Batch 2:  Loss:     1.4306 Validation Accuracy: 0.480600\n",
      "Epoch  8, CIFAR-10 Batch 3:  Loss:     1.3681 Validation Accuracy: 0.452600\n",
      "Epoch  8, CIFAR-10 Batch 4:  Loss:     1.2566 Validation Accuracy: 0.479800\n",
      "Epoch  8, CIFAR-10 Batch 5:  Loss:     1.4618 Validation Accuracy: 0.465200\n",
      "Epoch  9, CIFAR-10 Batch 1:  Loss:     1.4243 Validation Accuracy: 0.477200\n",
      "Epoch  9, CIFAR-10 Batch 2:  Loss:     1.3351 Validation Accuracy: 0.484600\n",
      "Epoch  9, CIFAR-10 Batch 3:  Loss:     1.2486 Validation Accuracy: 0.475000\n",
      "Epoch  9, CIFAR-10 Batch 4:  Loss:     1.2456 Validation Accuracy: 0.489400\n",
      "Epoch  9, CIFAR-10 Batch 5:  Loss:     1.3750 Validation Accuracy: 0.485800\n",
      "Epoch 10, CIFAR-10 Batch 1:  Loss:     1.3569 Validation Accuracy: 0.489200\n",
      "Epoch 10, CIFAR-10 Batch 2:  Loss:     1.2613 Validation Accuracy: 0.495600\n",
      "Epoch 10, CIFAR-10 Batch 3:  Loss:     1.1504 Validation Accuracy: 0.482000\n",
      "Epoch 10, CIFAR-10 Batch 4:  Loss:     1.1726 Validation Accuracy: 0.495000\n",
      "Epoch 10, CIFAR-10 Batch 5:  Loss:     1.3440 Validation Accuracy: 0.487000\n",
      "Epoch 11, CIFAR-10 Batch 1:  Loss:     1.3599 Validation Accuracy: 0.498200\n",
      "Epoch 11, CIFAR-10 Batch 2:  Loss:     1.1897 Validation Accuracy: 0.497400\n",
      "Epoch 11, CIFAR-10 Batch 3:  Loss:     1.1964 Validation Accuracy: 0.484800\n",
      "Epoch 11, CIFAR-10 Batch 4:  Loss:     1.1908 Validation Accuracy: 0.511600\n",
      "Epoch 11, CIFAR-10 Batch 5:  Loss:     1.3304 Validation Accuracy: 0.489000\n",
      "Epoch 12, CIFAR-10 Batch 1:  Loss:     1.3514 Validation Accuracy: 0.506200\n",
      "Epoch 12, CIFAR-10 Batch 2:  Loss:     1.0979 Validation Accuracy: 0.513800\n",
      "Epoch 12, CIFAR-10 Batch 3:  Loss:     1.1478 Validation Accuracy: 0.501200\n",
      "Epoch 12, CIFAR-10 Batch 4:  Loss:     1.0869 Validation Accuracy: 0.510200\n",
      "Epoch 12, CIFAR-10 Batch 5:  Loss:     1.3429 Validation Accuracy: 0.505800\n",
      "Epoch 13, CIFAR-10 Batch 1:  Loss:     1.3181 Validation Accuracy: 0.516200\n",
      "Epoch 13, CIFAR-10 Batch 2:  Loss:     1.1451 Validation Accuracy: 0.516800\n",
      "Epoch 13, CIFAR-10 Batch 3:  Loss:     1.0704 Validation Accuracy: 0.515800\n",
      "Epoch 13, CIFAR-10 Batch 4:  Loss:     1.1321 Validation Accuracy: 0.523000\n",
      "Epoch 13, CIFAR-10 Batch 5:  Loss:     1.3011 Validation Accuracy: 0.508800\n",
      "Epoch 14, CIFAR-10 Batch 1:  Loss:     1.2242 Validation Accuracy: 0.522200\n",
      "Epoch 14, CIFAR-10 Batch 2:  Loss:     1.0791 Validation Accuracy: 0.521200\n",
      "Epoch 14, CIFAR-10 Batch 3:  Loss:     1.0164 Validation Accuracy: 0.521400\n",
      "Epoch 14, CIFAR-10 Batch 4:  Loss:     1.0792 Validation Accuracy: 0.525800\n",
      "Epoch 14, CIFAR-10 Batch 5:  Loss:     1.3119 Validation Accuracy: 0.521600\n",
      "Epoch 15, CIFAR-10 Batch 1:  Loss:     1.1366 Validation Accuracy: 0.533000\n",
      "Epoch 15, CIFAR-10 Batch 2:  Loss:     1.0315 Validation Accuracy: 0.532400\n",
      "Epoch 15, CIFAR-10 Batch 3:  Loss:     1.0684 Validation Accuracy: 0.517400\n",
      "Epoch 15, CIFAR-10 Batch 4:  Loss:     1.0135 Validation Accuracy: 0.534000\n",
      "Epoch 15, CIFAR-10 Batch 5:  Loss:     1.2933 Validation Accuracy: 0.541000\n",
      "Epoch 16, CIFAR-10 Batch 1:  Loss:     1.1440 Validation Accuracy: 0.510800\n",
      "Epoch 16, CIFAR-10 Batch 2:  Loss:     0.9328 Validation Accuracy: 0.533400\n",
      "Epoch 16, CIFAR-10 Batch 3:  Loss:     0.9512 Validation Accuracy: 0.530400\n",
      "Epoch 16, CIFAR-10 Batch 4:  Loss:     0.9652 Validation Accuracy: 0.539200\n",
      "Epoch 16, CIFAR-10 Batch 5:  Loss:     1.2484 Validation Accuracy: 0.518800\n",
      "Epoch 17, CIFAR-10 Batch 1:  Loss:     1.1303 Validation Accuracy: 0.542600\n",
      "Epoch 17, CIFAR-10 Batch 2:  Loss:     0.9679 Validation Accuracy: 0.546800\n",
      "Epoch 17, CIFAR-10 Batch 3:  Loss:     0.9636 Validation Accuracy: 0.541600\n",
      "Epoch 17, CIFAR-10 Batch 4:  Loss:     0.8992 Validation Accuracy: 0.547600\n",
      "Epoch 17, CIFAR-10 Batch 5:  Loss:     1.1749 Validation Accuracy: 0.548600\n",
      "Epoch 18, CIFAR-10 Batch 1:  Loss:     1.1110 Validation Accuracy: 0.546800\n",
      "Epoch 18, CIFAR-10 Batch 2:  Loss:     0.9836 Validation Accuracy: 0.546800\n",
      "Epoch 18, CIFAR-10 Batch 3:  Loss:     0.9566 Validation Accuracy: 0.543600\n",
      "Epoch 18, CIFAR-10 Batch 4:  Loss:     0.9057 Validation Accuracy: 0.548000\n",
      "Epoch 18, CIFAR-10 Batch 5:  Loss:     1.1389 Validation Accuracy: 0.553400\n",
      "Epoch 19, CIFAR-10 Batch 1:  Loss:     1.0669 Validation Accuracy: 0.540000\n",
      "Epoch 19, CIFAR-10 Batch 2:  Loss:     0.9286 Validation Accuracy: 0.547800\n",
      "Epoch 19, CIFAR-10 Batch 3:  Loss:     0.8704 Validation Accuracy: 0.550400\n",
      "Epoch 19, CIFAR-10 Batch 4:  Loss:     0.8667 Validation Accuracy: 0.556800\n",
      "Epoch 19, CIFAR-10 Batch 5:  Loss:     1.0823 Validation Accuracy: 0.555000\n",
      "Epoch 20, CIFAR-10 Batch 1:  Loss:     0.9983 Validation Accuracy: 0.551800\n",
      "Epoch 20, CIFAR-10 Batch 2:  Loss:     0.9261 Validation Accuracy: 0.560800\n",
      "Epoch 20, CIFAR-10 Batch 3:  Loss:     0.9599 Validation Accuracy: 0.548200\n",
      "Epoch 20, CIFAR-10 Batch 4:  Loss:     0.8105 Validation Accuracy: 0.560600\n",
      "Epoch 20, CIFAR-10 Batch 5:  Loss:     1.0335 Validation Accuracy: 0.563800\n",
      "Epoch 21, CIFAR-10 Batch 1:  Loss:     0.9775 Validation Accuracy: 0.556400\n",
      "Epoch 21, CIFAR-10 Batch 2:  Loss:     0.8647 Validation Accuracy: 0.557200\n",
      "Epoch 21, CIFAR-10 Batch 3:  Loss:     0.8633 Validation Accuracy: 0.547000\n",
      "Epoch 21, CIFAR-10 Batch 4:  Loss:     0.8196 Validation Accuracy: 0.555000\n",
      "Epoch 21, CIFAR-10 Batch 5:  Loss:     1.0284 Validation Accuracy: 0.554600\n",
      "Epoch 22, CIFAR-10 Batch 1:  Loss:     1.0537 Validation Accuracy: 0.557400\n",
      "Epoch 22, CIFAR-10 Batch 2:  Loss:     0.9088 Validation Accuracy: 0.550000\n",
      "Epoch 22, CIFAR-10 Batch 3:  Loss:     0.8234 Validation Accuracy: 0.557000\n",
      "Epoch 22, CIFAR-10 Batch 4:  Loss:     0.7854 Validation Accuracy: 0.562800\n",
      "Epoch 22, CIFAR-10 Batch 5:  Loss:     1.0391 Validation Accuracy: 0.559000\n",
      "Epoch 23, CIFAR-10 Batch 1:  Loss:     1.0118 Validation Accuracy: 0.569000\n",
      "Epoch 23, CIFAR-10 Batch 2:  Loss:     0.9016 Validation Accuracy: 0.558200\n",
      "Epoch 23, CIFAR-10 Batch 3:  Loss:     0.7729 Validation Accuracy: 0.569600\n",
      "Epoch 23, CIFAR-10 Batch 4:  Loss:     0.7821 Validation Accuracy: 0.575600\n",
      "Epoch 23, CIFAR-10 Batch 5:  Loss:     1.0015 Validation Accuracy: 0.574400\n",
      "Epoch 24, CIFAR-10 Batch 1:  Loss:     0.9632 Validation Accuracy: 0.557600\n",
      "Epoch 24, CIFAR-10 Batch 2:  Loss:     0.9452 Validation Accuracy: 0.541200\n",
      "Epoch 24, CIFAR-10 Batch 3:  Loss:     0.7503 Validation Accuracy: 0.572000\n",
      "Epoch 24, CIFAR-10 Batch 4:  Loss:     0.7121 Validation Accuracy: 0.572800\n",
      "Epoch 24, CIFAR-10 Batch 5:  Loss:     0.9489 Validation Accuracy: 0.576000\n",
      "Epoch 25, CIFAR-10 Batch 1:  Loss:     1.0042 Validation Accuracy: 0.575800\n",
      "Epoch 25, CIFAR-10 Batch 2:  Loss:     0.8226 Validation Accuracy: 0.555000\n",
      "Epoch 25, CIFAR-10 Batch 3:  Loss:     0.6930 Validation Accuracy: 0.572800\n",
      "Epoch 25, CIFAR-10 Batch 4:  Loss:     0.6683 Validation Accuracy: 0.570800\n",
      "Epoch 25, CIFAR-10 Batch 5:  Loss:     0.9131 Validation Accuracy: 0.582600\n",
      "Epoch 26, CIFAR-10 Batch 1:  Loss:     0.8697 Validation Accuracy: 0.568200\n",
      "Epoch 26, CIFAR-10 Batch 2:  Loss:     0.8435 Validation Accuracy: 0.569800\n",
      "Epoch 26, CIFAR-10 Batch 3:  Loss:     0.7085 Validation Accuracy: 0.573600\n",
      "Epoch 26, CIFAR-10 Batch 4:  Loss:     0.6363 Validation Accuracy: 0.575600\n",
      "Epoch 26, CIFAR-10 Batch 5:  Loss:     0.8628 Validation Accuracy: 0.578200\n",
      "Epoch 27, CIFAR-10 Batch 1:  Loss:     0.9316 Validation Accuracy: 0.576600\n",
      "Epoch 27, CIFAR-10 Batch 2:  Loss:     0.8970 Validation Accuracy: 0.536000\n",
      "Epoch 27, CIFAR-10 Batch 3:  Loss:     0.6656 Validation Accuracy: 0.570000\n",
      "Epoch 27, CIFAR-10 Batch 4:  Loss:     0.6244 Validation Accuracy: 0.574000\n",
      "Epoch 27, CIFAR-10 Batch 5:  Loss:     0.8629 Validation Accuracy: 0.576400\n",
      "Epoch 28, CIFAR-10 Batch 1:  Loss:     0.8214 Validation Accuracy: 0.574200\n",
      "Epoch 28, CIFAR-10 Batch 2:  Loss:     0.8219 Validation Accuracy: 0.566600\n",
      "Epoch 28, CIFAR-10 Batch 3:  Loss:     0.6594 Validation Accuracy: 0.581600\n",
      "Epoch 28, CIFAR-10 Batch 4:  Loss:     0.6477 Validation Accuracy: 0.578200\n",
      "Epoch 28, CIFAR-10 Batch 5:  Loss:     0.8733 Validation Accuracy: 0.581400\n",
      "Epoch 29, CIFAR-10 Batch 1:  Loss:     0.8566 Validation Accuracy: 0.576800\n",
      "Epoch 29, CIFAR-10 Batch 2:  Loss:     0.7697 Validation Accuracy: 0.581600\n",
      "Epoch 29, CIFAR-10 Batch 3:  Loss:     0.6436 Validation Accuracy: 0.578200\n",
      "Epoch 29, CIFAR-10 Batch 4:  Loss:     0.6221 Validation Accuracy: 0.582400\n",
      "Epoch 29, CIFAR-10 Batch 5:  Loss:     0.7879 Validation Accuracy: 0.581800\n",
      "Epoch 30, CIFAR-10 Batch 1:  Loss:     0.8363 Validation Accuracy: 0.569000\n",
      "Epoch 30, CIFAR-10 Batch 2:  Loss:     0.7844 Validation Accuracy: 0.569400\n",
      "Epoch 30, CIFAR-10 Batch 3:  Loss:     0.6548 Validation Accuracy: 0.590200\n",
      "Epoch 30, CIFAR-10 Batch 4:  Loss:     0.6292 Validation Accuracy: 0.563000\n",
      "Epoch 30, CIFAR-10 Batch 5:  Loss:     0.7815 Validation Accuracy: 0.581800\n",
      "Epoch 31, CIFAR-10 Batch 1:  Loss:     0.7406 Validation Accuracy: 0.581200\n",
      "Epoch 31, CIFAR-10 Batch 2:  Loss:     0.7420 Validation Accuracy: 0.584200\n",
      "Epoch 31, CIFAR-10 Batch 3:  Loss:     0.6139 Validation Accuracy: 0.598000\n",
      "Epoch 31, CIFAR-10 Batch 4:  Loss:     0.5852 Validation Accuracy: 0.581600\n",
      "Epoch 31, CIFAR-10 Batch 5:  Loss:     0.7277 Validation Accuracy: 0.594400\n",
      "Epoch 32, CIFAR-10 Batch 1:  Loss:     0.7367 Validation Accuracy: 0.570000\n",
      "Epoch 32, CIFAR-10 Batch 2:  Loss:     0.7071 Validation Accuracy: 0.573000\n",
      "Epoch 32, CIFAR-10 Batch 3:  Loss:     0.6018 Validation Accuracy: 0.587000\n",
      "Epoch 32, CIFAR-10 Batch 4:  Loss:     0.6185 Validation Accuracy: 0.567400\n",
      "Epoch 32, CIFAR-10 Batch 5:  Loss:     0.6815 Validation Accuracy: 0.598000\n",
      "Epoch 33, CIFAR-10 Batch 1:  Loss:     0.7551 Validation Accuracy: 0.596000\n",
      "Epoch 33, CIFAR-10 Batch 2:  Loss:     0.6065 Validation Accuracy: 0.589400\n",
      "Epoch 33, CIFAR-10 Batch 3:  Loss:     0.5011 Validation Accuracy: 0.599400\n",
      "Epoch 33, CIFAR-10 Batch 4:  Loss:     0.5679 Validation Accuracy: 0.572200\n",
      "Epoch 33, CIFAR-10 Batch 5:  Loss:     0.6844 Validation Accuracy: 0.589200\n",
      "Epoch 34, CIFAR-10 Batch 1:  Loss:     0.6871 Validation Accuracy: 0.581800\n",
      "Epoch 34, CIFAR-10 Batch 2:  Loss:     0.6130 Validation Accuracy: 0.589600\n",
      "Epoch 34, CIFAR-10 Batch 3:  Loss:     0.5605 Validation Accuracy: 0.595600\n",
      "Epoch 34, CIFAR-10 Batch 4:  Loss:     0.5961 Validation Accuracy: 0.589800\n",
      "Epoch 34, CIFAR-10 Batch 5:  Loss:     0.7146 Validation Accuracy: 0.593000\n",
      "Epoch 35, CIFAR-10 Batch 1:  Loss:     0.5746 Validation Accuracy: 0.594200\n",
      "Epoch 35, CIFAR-10 Batch 2:  Loss:     0.5708 Validation Accuracy: 0.582000\n",
      "Epoch 35, CIFAR-10 Batch 3:  Loss:     0.5123 Validation Accuracy: 0.586600\n",
      "Epoch 35, CIFAR-10 Batch 4:  Loss:     0.5124 Validation Accuracy: 0.583800\n",
      "Epoch 35, CIFAR-10 Batch 5:  Loss:     0.6715 Validation Accuracy: 0.598800\n",
      "Epoch 36, CIFAR-10 Batch 1:  Loss:     0.5897 Validation Accuracy: 0.596200\n",
      "Epoch 36, CIFAR-10 Batch 2:  Loss:     0.5614 Validation Accuracy: 0.597600\n",
      "Epoch 36, CIFAR-10 Batch 3:  Loss:     0.5233 Validation Accuracy: 0.597600\n",
      "Epoch 36, CIFAR-10 Batch 4:  Loss:     0.5097 Validation Accuracy: 0.584600\n",
      "Epoch 36, CIFAR-10 Batch 5:  Loss:     0.6200 Validation Accuracy: 0.604000\n",
      "Epoch 37, CIFAR-10 Batch 1:  Loss:     0.5984 Validation Accuracy: 0.604400\n",
      "Epoch 37, CIFAR-10 Batch 2:  Loss:     0.4811 Validation Accuracy: 0.590200\n",
      "Epoch 37, CIFAR-10 Batch 3:  Loss:     0.5281 Validation Accuracy: 0.599800\n",
      "Epoch 37, CIFAR-10 Batch 4:  Loss:     0.4681 Validation Accuracy: 0.571600\n",
      "Epoch 37, CIFAR-10 Batch 5:  Loss:     0.6240 Validation Accuracy: 0.603200\n",
      "Epoch 38, CIFAR-10 Batch 1:  Loss:     0.5871 Validation Accuracy: 0.589000\n",
      "Epoch 38, CIFAR-10 Batch 2:  Loss:     0.5324 Validation Accuracy: 0.584400\n",
      "Epoch 38, CIFAR-10 Batch 3:  Loss:     0.5352 Validation Accuracy: 0.608200\n",
      "Epoch 38, CIFAR-10 Batch 4:  Loss:     0.4745 Validation Accuracy: 0.563600\n",
      "Epoch 38, CIFAR-10 Batch 5:  Loss:     0.5984 Validation Accuracy: 0.598600\n",
      "Epoch 39, CIFAR-10 Batch 1:  Loss:     0.5270 Validation Accuracy: 0.596800\n",
      "Epoch 39, CIFAR-10 Batch 2:  Loss:     0.4428 Validation Accuracy: 0.600400\n",
      "Epoch 39, CIFAR-10 Batch 3:  Loss:     0.5145 Validation Accuracy: 0.601000\n",
      "Epoch 39, CIFAR-10 Batch 4:  Loss:     0.4457 Validation Accuracy: 0.579000\n",
      "Epoch 39, CIFAR-10 Batch 5:  Loss:     0.5417 Validation Accuracy: 0.606400\n",
      "Epoch 40, CIFAR-10 Batch 1:  Loss:     0.5724 Validation Accuracy: 0.601400\n",
      "Epoch 40, CIFAR-10 Batch 2:  Loss:     0.4882 Validation Accuracy: 0.602200\n",
      "Epoch 40, CIFAR-10 Batch 3:  Loss:     0.4247 Validation Accuracy: 0.594800\n",
      "Epoch 40, CIFAR-10 Batch 4:  Loss:     0.4581 Validation Accuracy: 0.581200\n",
      "Epoch 40, CIFAR-10 Batch 5:  Loss:     0.5018 Validation Accuracy: 0.611800\n",
      "Epoch 41, CIFAR-10 Batch 1:  Loss:     0.5614 Validation Accuracy: 0.602200\n",
      "Epoch 41, CIFAR-10 Batch 2:  Loss:     0.4233 Validation Accuracy: 0.601600\n",
      "Epoch 41, CIFAR-10 Batch 3:  Loss:     0.4558 Validation Accuracy: 0.603200\n",
      "Epoch 41, CIFAR-10 Batch 4:  Loss:     0.3771 Validation Accuracy: 0.583800\n",
      "Epoch 41, CIFAR-10 Batch 5:  Loss:     0.5080 Validation Accuracy: 0.607400\n",
      "Epoch 42, CIFAR-10 Batch 1:  Loss:     0.5169 Validation Accuracy: 0.600200\n",
      "Epoch 42, CIFAR-10 Batch 2:  Loss:     0.4287 Validation Accuracy: 0.600000\n",
      "Epoch 42, CIFAR-10 Batch 3:  Loss:     0.4564 Validation Accuracy: 0.609600\n",
      "Epoch 42, CIFAR-10 Batch 4:  Loss:     0.4032 Validation Accuracy: 0.576400\n",
      "Epoch 42, CIFAR-10 Batch 5:  Loss:     0.5033 Validation Accuracy: 0.611000\n",
      "Epoch 43, CIFAR-10 Batch 1:  Loss:     0.5220 Validation Accuracy: 0.600600\n",
      "Epoch 43, CIFAR-10 Batch 2:  Loss:     0.4534 Validation Accuracy: 0.593200\n",
      "Epoch 43, CIFAR-10 Batch 3:  Loss:     0.4001 Validation Accuracy: 0.604600\n",
      "Epoch 43, CIFAR-10 Batch 4:  Loss:     0.3685 Validation Accuracy: 0.596400\n",
      "Epoch 43, CIFAR-10 Batch 5:  Loss:     0.4947 Validation Accuracy: 0.603800\n",
      "Epoch 44, CIFAR-10 Batch 1:  Loss:     0.4729 Validation Accuracy: 0.603000\n",
      "Epoch 44, CIFAR-10 Batch 2:  Loss:     0.3999 Validation Accuracy: 0.600400\n",
      "Epoch 44, CIFAR-10 Batch 3:  Loss:     0.4084 Validation Accuracy: 0.593200\n",
      "Epoch 44, CIFAR-10 Batch 4:  Loss:     0.3710 Validation Accuracy: 0.588600\n",
      "Epoch 44, CIFAR-10 Batch 5:  Loss:     0.4407 Validation Accuracy: 0.599600\n",
      "Epoch 45, CIFAR-10 Batch 1:  Loss:     0.4724 Validation Accuracy: 0.602800\n",
      "Epoch 45, CIFAR-10 Batch 2:  Loss:     0.3804 Validation Accuracy: 0.601200\n",
      "Epoch 45, CIFAR-10 Batch 3:  Loss:     0.3777 Validation Accuracy: 0.601800\n",
      "Epoch 45, CIFAR-10 Batch 4:  Loss:     0.3005 Validation Accuracy: 0.582800\n",
      "Epoch 45, CIFAR-10 Batch 5:  Loss:     0.4284 Validation Accuracy: 0.611200\n",
      "Epoch 46, CIFAR-10 Batch 1:  Loss:     0.4602 Validation Accuracy: 0.607200\n",
      "Epoch 46, CIFAR-10 Batch 2:  Loss:     0.3806 Validation Accuracy: 0.606200\n",
      "Epoch 46, CIFAR-10 Batch 3:  Loss:     0.3678 Validation Accuracy: 0.601400\n",
      "Epoch 46, CIFAR-10 Batch 4:  Loss:     0.3152 Validation Accuracy: 0.600200\n",
      "Epoch 46, CIFAR-10 Batch 5:  Loss:     0.4437 Validation Accuracy: 0.612400\n",
      "Epoch 47, CIFAR-10 Batch 1:  Loss:     0.4429 Validation Accuracy: 0.606400\n",
      "Epoch 47, CIFAR-10 Batch 2:  Loss:     0.4152 Validation Accuracy: 0.592200\n",
      "Epoch 47, CIFAR-10 Batch 3:  Loss:     0.3169 Validation Accuracy: 0.601800\n",
      "Epoch 47, CIFAR-10 Batch 4:  Loss:     0.3194 Validation Accuracy: 0.595200\n",
      "Epoch 47, CIFAR-10 Batch 5:  Loss:     0.4324 Validation Accuracy: 0.607600\n",
      "Epoch 48, CIFAR-10 Batch 1:  Loss:     0.4640 Validation Accuracy: 0.606000\n",
      "Epoch 48, CIFAR-10 Batch 2:  Loss:     0.3277 Validation Accuracy: 0.595600\n",
      "Epoch 48, CIFAR-10 Batch 3:  Loss:     0.3337 Validation Accuracy: 0.607400\n",
      "Epoch 48, CIFAR-10 Batch 4:  Loss:     0.3457 Validation Accuracy: 0.599600\n",
      "Epoch 48, CIFAR-10 Batch 5:  Loss:     0.4321 Validation Accuracy: 0.604000\n",
      "Epoch 49, CIFAR-10 Batch 1:  Loss:     0.4039 Validation Accuracy: 0.609000\n",
      "Epoch 49, CIFAR-10 Batch 2:  Loss:     0.3182 Validation Accuracy: 0.591200\n",
      "Epoch 49, CIFAR-10 Batch 3:  Loss:     0.3170 Validation Accuracy: 0.610600\n",
      "Epoch 49, CIFAR-10 Batch 4:  Loss:     0.2913 Validation Accuracy: 0.604400\n",
      "Epoch 49, CIFAR-10 Batch 5:  Loss:     0.3671 Validation Accuracy: 0.599600\n",
      "Epoch 50, CIFAR-10 Batch 1:  Loss:     0.3973 Validation Accuracy: 0.614200\n",
      "Epoch 50, CIFAR-10 Batch 2:  Loss:     0.2962 Validation Accuracy: 0.607600\n",
      "Epoch 50, CIFAR-10 Batch 3:  Loss:     0.3129 Validation Accuracy: 0.589000\n",
      "Epoch 50, CIFAR-10 Batch 4:  Loss:     0.3730 Validation Accuracy: 0.598600\n",
      "Epoch 50, CIFAR-10 Batch 5:  Loss:     0.3205 Validation Accuracy: 0.608200\n"
     ]
    }
   ],
   "source": [
    "\"\"\"\n",
    "DON'T MODIFY ANYTHING IN THIS CELL\n",
    "\"\"\"\n",
    "save_model_path = './image_classification'\n",
    "\n",
    "print('Training...')\n",
    "with tf.Session() as sess:\n",
    "    # Initializing the variables\n",
    "    sess.run(tf.global_variables_initializer())\n",
    "    \n",
    "    # Training cycle\n",
    "    for epoch in range(epochs):\n",
    "        # Loop over all batches\n",
    "        n_batches = 5\n",
    "        for batch_i in range(1, n_batches + 1):\n",
    "            for batch_features, batch_labels in helper.load_preprocess_training_batch(batch_i, batch_size):\n",
    "                train_neural_network(sess, optimizer, keep_probability, batch_features, batch_labels)\n",
    "            print('Epoch {:>2}, CIFAR-10 Batch {}:  '.format(epoch + 1, batch_i), end='')\n",
    "            print_stats(sess, batch_features, batch_labels, cost, accuracy)\n",
    "            \n",
    "    # Save Model\n",
    "    saver = tf.train.Saver()\n",
    "    save_path = saver.save(sess, save_model_path)"
   ]
  },
  {
   "cell_type": "markdown",
   "metadata": {
    "deletable": true,
    "editable": true
   },
   "source": [
    "# Checkpoint\n",
    "The model has been saved to disk.\n",
    "## Test Model\n",
    "Test your model against the test dataset.  This will be your final accuracy. You should have an accuracy greater than 50%. If you don't, keep tweaking the model architecture and parameters."
   ]
  },
  {
   "cell_type": "code",
   "execution_count": 13,
   "metadata": {
    "collapsed": false,
    "deletable": true,
    "editable": true
   },
   "outputs": [
    {
     "name": "stdout",
     "output_type": "stream",
     "text": [
      "Testing Accuracy: 0.6017602848101266\n",
      "\n"
     ]
    },
    {
     "data": {
      "image/png": "[encoded data removed]",
      "text/plain": [
       "<matplotlib.figure.Figure at 0x7f71f4038c88>"
      ]
     },
     "metadata": {
      "image/png": {
       "height": 319,
       "width": 355
      }
     },
     "output_type": "display_data"
    }
   ],
   "source": [
    "\"\"\"\n",
    "DON'T MODIFY ANYTHING IN THIS CELL\n",
    "\"\"\"\n",
    "%matplotlib inline\n",
    "%config InlineBackend.figure_format = 'retina'\n",
    "\n",
    "import tensorflow as tf\n",
    "import pickle\n",
    "import helper\n",
    "import random\n",
    "\n",
    "# Set batch size if not already set\n",
    "try:\n",
    "    if batch_size:\n",
    "        pass\n",
    "except NameError:\n",
    "    batch_size = 64\n",
    "\n",
    "save_model_path = './image_classification'\n",
    "n_samples = 4\n",
    "top_n_predictions = 3\n",
    "\n",
    "def test_model():\n",
    "    \"\"\"\n",
    "    Test the saved model against the test dataset\n",
    "    \"\"\"\n",
    "\n",
    "    test_features, test_labels = pickle.load(open('preprocess_training.p', mode='rb'))\n",
    "    loaded_graph = tf.Graph()\n",
    "\n",
    "    with tf.Session(graph=loaded_graph) as sess:\n",
    "        # Load model\n",
    "        loader = tf.train.import_meta_graph(save_model_path + '.meta')\n",
    "        loader.restore(sess, save_model_path)\n",
    "\n",
    "        # Get Tensors from loaded model\n",
    "        loaded_x = loaded_graph.get_tensor_by_name('x:0')\n",
    "        loaded_y = loaded_graph.get_tensor_by_name('y:0')\n",
    "        loaded_keep_prob = loaded_graph.get_tensor_by_name('keep_prob:0')\n",
    "        loaded_logits = loaded_graph.get_tensor_by_name('logits:0')\n",
    "        loaded_acc = loaded_graph.get_tensor_by_name('accuracy:0')\n",
    "        \n",
    "        # Get accuracy in batches for memory limitations\n",
    "        test_batch_acc_total = 0\n",
    "        test_batch_count = 0\n",
    "        \n",
    "        for train_feature_batch, train_label_batch in helper.batch_features_labels(test_features, test_labels, batch_size):\n",
    "            test_batch_acc_total += sess.run(\n",
    "                loaded_acc,\n",
    "                feed_dict={loaded_x: train_feature_batch, loaded_y: train_label_batch, loaded_keep_prob: 1.0})\n",
    "            test_batch_count += 1\n",
    "\n",
    "        print('Testing Accuracy: {}\\n'.format(test_batch_acc_total/test_batch_count))\n",
    "\n",
    "        # Print Random Samples\n",
    "        random_test_features, random_test_labels = tuple(zip(*random.sample(list(zip(test_features, test_labels)), n_samples)))\n",
    "        random_test_predictions = sess.run(\n",
    "            tf.nn.top_k(tf.nn.softmax(loaded_logits), top_n_predictions),\n",
    "            feed_dict={loaded_x: random_test_features, loaded_y: random_test_labels, loaded_keep_prob: 1.0})\n",
    "        helper.display_image_predictions(random_test_features, random_test_labels, random_test_predictions)\n",
    "\n",
    "\n",
    "test_model()"
   ]
  },
  {
   "cell_type": "markdown",
   "metadata": {
    "deletable": true,
    "editable": true
   },
   "source": [
    "## Why 50-70% Accuracy?\n",
    "You might be wondering why you can't get an accuracy any higher. First things first, 50% isn't bad for a simple CNN.  Pure guessing would get you 10% accuracy. However, you might notice people are getting scores [well above 70%](http://rodrigob.github.io/are_we_there_yet/build/classification_datasets_results.html#43494641522d3130).  That's because we haven't taught you all there is to know about neural networks. We still need to cover a few more techniques.\n",
    "## Submitting This Project\n",
    "When submitting this project, make sure to run all the cells before saving the notebook.  Save the notebook file as \"dlnd_image_classification.ipynb\" and save it as a HTML file under \"File\" -> \"Download as\".  Include the \"helper.py\" and \"problem_unittests.py\" files in your submission."
   ]
  }
 ],
 "metadata": {
  "kernelspec": {
   "display_name": "Python 3",
   "language": "python",
   "name": "python3"
  },
  "language_info": {
   "codemirror_mode": {
    "name": "ipython",
    "version": 3
   },
   "file_extension": ".py",
   "mimetype": "text/x-python",
   "name": "python",
   "nbconvert_exporter": "python",
   "pygments_lexer": "ipython3",
   "version": "3.5.2"
  },
  "widgets": {
   "state": {},
   "version": "1.1.2"
  }
 },
 "nbformat": 4,
 "nbformat_minor": 0
}
